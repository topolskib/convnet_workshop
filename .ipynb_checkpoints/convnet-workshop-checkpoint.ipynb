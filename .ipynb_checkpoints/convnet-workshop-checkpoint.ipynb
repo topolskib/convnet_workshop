{
 "cells": [
  {
   "cell_type": "code",
   "execution_count": 5,
   "metadata": {},
   "outputs": [],
   "source": [
    "import numpy as np\n",
    "import pandas as pd\n",
    "import keras\n",
    "import matplotlib.pyplot as plt"
   ]
  },
  {
   "cell_type": "markdown",
   "metadata": {},
   "source": [
    "## Warstwy - opisy i prosta implementacja konwolucji "
   ]
  },
  {
   "cell_type": "markdown",
   "metadata": {},
   "source": [
    "#### Konwolucja\n",
    "\n",
    "Warstwa konwolucyjna służy jako główne narzędzie do wyciągania cech z wejściowych obrazów. Wykorzystuje ona trzy pojęcia, które mogą polepszyć nasz model - zarówno pod kątem jakości predykcji, jak i szybkości uczenia. Sa to:\n",
    "* rzadkie oddziaływania (*sparse interactions*) - połączenia między kolejnymi warstwami nie występują pomiędzy każdym neuronem - każdy piksel wpływa tylko na pewne otoczenie kolejnej warstwy parametrów,\n",
    "* współdzielenie parametrów - wielokrotnie stosujemy te same wagi na różnych częściach obrazka. Sprawia to, że model potrzebuje dużo mniej parametrów aby przekazać podobną ilość istotnych informacji,\n",
    "* ekwiwariancja względem translacji - jeżeli przesuniemy nasz obrazek o pewną ilość pikseli, to samo przesunięcie zaobserwujemy na warstwie wyjściowej.\n",
    "\n"
   ]
  },
  {
   "cell_type": "markdown",
   "metadata": {},
   "source": [
    "#### Wizualizacja działania"
   ]
  },
  {
   "cell_type": "markdown",
   "metadata": {},
   "source": [
    "![](img/convolve.png)"
   ]
  },
  {
   "cell_type": "markdown",
   "metadata": {},
   "source": [
    "#### Istotne parametry\n",
    "* ilość filtrów\n",
    "* szerokość filtra - tutaj im większa wartość, tym bardziej skomplikowane zalezności jest w stanie wykryć filtr - ale kosztem większej złożoności pamięciowej i obliczeniowej. Na ogół używa się 3 lub 5, aczkolwiek ciekawostka - przydatne bywają też filtry 1x1 (o tym później)\n",
    "* *stride* - o ile pikseli przesuwany jest filtr w każdym kroku. Domyślnie 1, większe wartości powodują zmniejszenie wyjścowego obrazka\n",
    "* *padding* - rozszerzenie obrazka wejściowego tak, aby wyjściowy miał te same wymiary.  \n"
   ]
  },
  {
   "cell_type": "code",
   "execution_count": 2,
   "metadata": {
    "collapsed": true
   },
   "outputs": [],
   "source": [
    "def conv_forward(X, W):\n",
    "    \"\"\"\n",
    "    Funkcja oblicza forward pass dla warstwy konwolucyjnej. Parametry:\n",
    "    X - tensor wejściowy. Wymiary: [wysokość, szerokość, ilość kanałów]\n",
    "    W - tensor reprezentujący zestaw filtrów. Wymiary: [ilość filtrów, wysokość, szerokość, głębokość]\n",
    "    \n",
    "    Ważne - ilość kanałów wejścia musi być równa głębokości każdego filtru.\n",
    "    \n",
    "    Wyjście:\n",
    "    output - tensor o wymiarach [wysokość, szerokość, ilość filtrów]\n",
    "    cache - krotka (X,W)- potrzebna do propagacji wstecznej\n",
    "    \"\"\"\n",
    "    \n",
    "    # wyciągnięcie wymiarów\n",
    "    try:\n",
    "        heigth, width, depth = X.shape\n",
    "        num_filters, W_heigth, W_width, W_depth = W.shape\n",
    "        assert(depth == W_depth)\n",
    "    except Exception as e:\n",
    "        print ('Dimension error!')\n",
    "        print (X.shape, W.shape)\n",
    "        raise(Exception)\n",
    "        \n",
    "    # obliczenie paddingu\n",
    "    padding = (W_heigth-1)//2\n",
    "    \n",
    "    ## rozszerzamy obrazek tak, aby output miał te same wymiary co X\n",
    "    X_to_process = np.pad(X, ((padding,padding), (padding,padding), (0,0)), 'edge')\n",
    "    \n",
    "    output = np.zeros((heigth, width, num_filters))\n",
    "    \n",
    "    # super nieoptymalna implementacja z potrójną pętlą\n",
    "    for i in range(heigth):\n",
    "        for j in range(width):\n",
    "            for k in range(num_filters):\n",
    "                output[i,j,k] = np.sum(\n",
    "                    X_to_process[i:(i+W_heigth), j:(j+W_heigth), :] * W[k]\n",
    "                )\n",
    "    \n",
    "    return output, (X, W)    \n",
    "\n",
    "def conv_backward(dO, cache):\n",
    "    \"\"\"\n",
    "    Funkcja oblicza forward pass dla warstwy konwolucyjnej. Parametry:\n",
    "    dO - tensor wejściowy reprezentujący wartości pochodnej funkcji straty po aktywacjach warstwy wyjściowej. \n",
    "         Wymiary: [wysokość, szerokość, ilość kanałów]\n",
    "    cache - Krotka zawierająca cache z forward passu.\n",
    "        \n",
    "    Wyjście:\n",
    "    dW - tensor pochodnych po wartościach filtra\n",
    "    dX - tensor pochodnych po wartościach wejścia \n",
    "    \"\"\"\n",
    "    \n",
    "    (X, W) = cache\n",
    "    \n",
    "    try:\n",
    "        heigth, width, depth = X.shape\n",
    "        num_filters, W_heigth, W_width, W_depth = W.shape\n",
    "    except:\n",
    "        print ('Dimension error!')\n",
    "        \n",
    "    \n",
    "    padding = (W_heigth-1)//2\n",
    "    \n",
    "    dX = np.zeros(X.shape)\n",
    "    dX = np.pad(dX, ((padding,padding), (padding,padding), (0,0)), 'constant')\n",
    "    dW = np.zeros(W.shape)\n",
    "    \n",
    "    X_padded = np.pad(X, ((padding,padding), (padding,padding), (0,0)), 'constant')\n",
    "    \n",
    "    for i in range(heigth):\n",
    "        for j in range(width):            \n",
    "            for k in range(num_filters):\n",
    "                for l in range(depth):\n",
    "                    \n",
    "                    # każdy filtr wpływa na wyjście wiele razy - za każdym razem proporcjonalnie\n",
    "                    # do określonego wycinka macierzy X\n",
    "                    dW[k, :, :, l] += X_padded[i:i+W_heigth, j:j+W_width, l] * dO[i,j, k]\n",
    "                    \n",
    "                    # podobnie jak wyżej - każdy 'piksel' wpływa na kilka neuronów wyjściowych - \n",
    "                    # proporcjonalnie do wartości wag w  filtrze\n",
    "                    dX[i:i+W_heigth, j:j+W_width, l] += W[k,:,:,l] * dO[i,j, k]\n",
    "                    \n",
    "    return dW, dX[1:(heigth+1), 1:(width+1), :]\n",
    "            "
   ]
  },
  {
   "cell_type": "markdown",
   "metadata": {},
   "source": [
    "### Pooling"
   ]
  },
  {
   "cell_type": "markdown",
   "metadata": {},
   "source": [
    "\"The pooling operation used in convolutional neural networks is a big mistake and the fact that it works so well is a disaster.\" - Geoffrey Hinton"
   ]
  },
  {
   "cell_type": "markdown",
   "metadata": {},
   "source": [
    "Pooling jest operacją mającą na celu zmniejszenie wymiarowości warstwy przy jednoczesnym zachowaniu jak największej ilości informacji. Stosuje się głównie dwa rodzaje poolingu - *max pooling* i *average pooling*. Nazwy mówią same za siebie - każda z tych operacji przechodzi po obrazku i przeprowadza odpowiednią agregację na jego segmentach. "
   ]
  },
  {
   "cell_type": "markdown",
   "metadata": {},
   "source": [
    "#### Wizualizacja"
   ]
  },
  {
   "cell_type": "markdown",
   "metadata": {},
   "source": [
    "![](img/pooling.JPG)"
   ]
  },
  {
   "cell_type": "markdown",
   "metadata": {},
   "source": [
    "Jeśli chodzi o propagację gradientu, to zasada działania jest prosta - w przypadku *average poolingu* gradient jest propagowany po równo na każdy piksel w małym segmencie. Dla *max poolingu* cały gradient przechodzi na ten piksel, który miał w warstwie wejściowej maksymalną wartość.  \n",
    "**TODO**: zaimplementować `max_pool_forward(X)` i `max_pool_backward(dO, cache)`"
   ]
  },
  {
   "cell_type": "markdown",
   "metadata": {},
   "source": [
    "### Dropout"
   ]
  },
  {
   "cell_type": "markdown",
   "metadata": {},
   "source": [
    "*Dropout* jest operacją która nie jest specyficzna dla sieci konwolucyjnych, lecz jest ogólnie użyteczna. Rozwiązuje ona problem przeuczania się modelu - sytuacji, w której model uczy się konkretnych obserwacji w zbiorze treningowym, a nie ogólnych cech wpływających na predykowaną cechę.  \n",
    "W warstwie *dropout* w każdej iteracji uczenia \"wyłączony\" zostaje pewien odsetek neuronów. Dzięki temu niemożliwe jest na przykład wyuczenie neuronów pod konkretne przypadki. Można myśleć o *dropoucie* jako o pewnego rodzaju komitecie klasyfikatorów - przy uczeniu każda iteracja korzysta z innych cech, a podczas predykcji dostajemy uśrednienie wyników.  \n",
    "Słowo uśrednienie jest tutaj wstawione celowo - aby zachować podobny rozkład aktywacji neuronów, podczas predykcji nie wyłączamy jednostek, ale za to mnożymy każdą aktywacją przez wcześniejsze prawdopodobieństwo wyłączenia neuronu. \n",
    "**TODO: zaimplementować `dropout(X, is_training)`"
   ]
  },
  {
   "cell_type": "markdown",
   "metadata": {},
   "source": [
    "#### Wizualizacja"
   ]
  },
  {
   "cell_type": "markdown",
   "metadata": {},
   "source": [
    "![](img/dropout.png)"
   ]
  },
  {
   "cell_type": "markdown",
   "metadata": {},
   "source": [
    "### Batch normalization"
   ]
  },
  {
   "cell_type": "markdown",
   "metadata": {},
   "source": [
    "Z poprzednich zajeć powinniśmy pamiętać potencjalne problemy związane z uczeniem sieci na surowych, nieznormalizowanych danych. Wtedy odpowiedzią na to była modyfikacja danych wejściowych. Skąd mamy jednak mieć pewność, że w trakcie uczenia podobna sytuacja nie pojawi się w środku sieci? W skutek wielu przekształceń mogą nam się zacząć pojawiać bardzo duże wartości aktywacji - a to doprowadzi to \"wybuchu\" w kolejnych warstwach.  \n",
    "\n",
    "Możemy próbować normalizować wyjście z każdej warstwy osobno - model uczymy w mini-batchach, więc możemy bez problemu liczyć stosowne agregacje. Co jednak zrobić na podczas predykcji, kiedy dostajemy jedną obserwację? Tutaj zwykła normalizacja nie pomoże.  \n",
    "\n",
    "Rozwiązaniem jest zapamiętywanie średniej i odchylenia standardowego podczas uczenia, i normalizacja tymi wartościami podczas predykcji."
   ]
  },
  {
   "cell_type": "markdown",
   "metadata": {},
   "source": [
    "## Keras"
   ]
  },
  {
   "cell_type": "markdown",
   "metadata": {},
   "source": [
    "Dziś poznamy API funkcyjne Kerasa - narzędzie które pozwala na dużo większą swobodę podczas tworzenia modeli. Szczególnie przydatną cechą jest możliwość zbudowania nowego modelu współdzielącego warstwy z poprzednim - będziemy tego używać przy wizualizacji."
   ]
  },
  {
   "cell_type": "code",
   "execution_count": 2,
   "metadata": {},
   "outputs": [
    {
     "name": "stderr",
     "output_type": "stream",
     "text": [
      "Using TensorFlow backend.\n"
     ]
    }
   ],
   "source": [
    "from keras.models import Model\n",
    "from keras.layers import Dense, Conv2D, Dropout, MaxPooling2D, Input, Reshape\n",
    "from keras.utils import to_categorical"
   ]
  },
  {
   "cell_type": "markdown",
   "metadata": {},
   "source": [
    "### Mnist - przykład"
   ]
  },
  {
   "cell_type": "code",
   "execution_count": 3,
   "metadata": {},
   "outputs": [
    {
     "name": "stdout",
     "output_type": "stream",
     "text": [
      "(60000, 28, 28)\n",
      "(60000,)\n"
     ]
    }
   ],
   "source": [
    "from keras.datasets import mnist\n",
    "(X_train_mnist, Y_train_mnist), (X_test_mnist, Y_test_mnist) = mnist.load_data()\n",
    "print(X_train_mnist.shape)\n",
    "print(Y_train_mnist.shape)"
   ]
  },
  {
   "cell_type": "code",
   "execution_count": 6,
   "metadata": {},
   "outputs": [],
   "source": [
    "# skalowanie min-max - najprostsze\n",
    "X_train_mnist_scaled = X_train_mnist/255.0\n",
    "X_test_mnist_scaled = X_test_mnist/255.0\n",
    "\n",
    "# obrazki w MNIST są w odcieniach szarości, ale\n",
    "# warstwy konwolucyjne wymagają 4 wymiarów - stąd\n",
    "# dodanie wymiaru reprezentującego nasz jeden kanał\n",
    "X_train_mnist_reshaped = X_train_mnist_scaled[:,:,:,np.newaxis]\n",
    "X_test_mnist_reshaped = X_test_mnist_scaled[:,:,:,np.newaxis]"
   ]
  },
  {
   "cell_type": "markdown",
   "metadata": {},
   "source": [
    "Tym razem zaczynamy budowę modelu od stworzenia grafu obliczeniowego, który określi kolejne działania na naszych danych. Każda obiekt reprezentujący warstwę traktujemy jako funkcję - i używamy jej do przekształcenia poprzednich warstw.  \n",
    "\n",
    "Dwie konwencje:\n",
    "```\n",
    "x = Input(shape=(,))\n",
    "x = Dense(20)(x)\n",
    "x = Dense(10)(x)\n",
    "output = Dense(1)(x)\n",
    "\n",
    "```\n",
    "\n",
    "oraz  \n",
    "```\n",
    "x = Input(shape=(,))\n",
    "x1 = Dense(20)(x)\n",
    "x2 = Dense(10)(x1)\n",
    "output = Dense(1)(x2)\n",
    "\n",
    "```\n",
    "\n",
    "Obie są poprawne, i obie zachowują pełną strukturę modelu. Druga pozwala jednak na  szybkie odwoływanie się do poszczególnych kroków modelu."
   ]
  },
  {
   "cell_type": "markdown",
   "metadata": {},
   "source": [
    "`Input` to tzw. *placegholder* - jest to deklaracja tego, że w tym miejscu będziemy w trakcie obliczeń wrzucać tensory wejściowe. Dzięki deklaracji wymiarów Keras wie, jakich wymiarów powinny być kolejne warstwy."
   ]
  },
  {
   "cell_type": "code",
   "execution_count": 21,
   "metadata": {},
   "outputs": [],
   "source": [
    "input_ = Input(shape=(28,28,1))"
   ]
  },
  {
   "cell_type": "markdown",
   "metadata": {},
   "source": [
    "Dalej używamy warstw Conv2D i MaxPooling2D. Implementują one algorytmy omówione wcześniej."
   ]
  },
  {
   "cell_type": "code",
   "execution_count": 22,
   "metadata": {
    "collapsed": true
   },
   "outputs": [],
   "source": [
    "conv1 = Conv2D(3, (3,3), padding='same', activation='relu')(input_) #28X28\n",
    "pool1 = MaxPooling2D((2,2), padding='same')(conv1) # 14x14\n",
    "conv2 = Conv2D(4, (3,3), padding='same', activation='relu')(pool1) #14X14\n",
    "pool2 = MaxPooling2D((2,2), padding='same')(conv2) # 7x7"
   ]
  },
  {
   "cell_type": "markdown",
   "metadata": {},
   "source": [
    "Po zakończeniu warstw konwolucyjnych przechodzimy na zwykłą warstwę `Dense`. Przedtem musimy jeszcze 'spłaszczyć' wyjście z ostatniej warstwy konwolucyjnej. Do tego służy warstwa `Reshape`."
   ]
  },
  {
   "cell_type": "code",
   "execution_count": 23,
   "metadata": {
    "collapsed": true
   },
   "outputs": [],
   "source": [
    "reshape = Reshape((7*7*4,))(pool2)\n",
    "output = Dense(10, activation='softmax')(reshape)"
   ]
  },
  {
   "cell_type": "markdown",
   "metadata": {},
   "source": [
    "Mając zdefiniowany graf obliczeniowy możemy zdefiniować nasz model. Korzystając z API funkcyjnego używamy klasy `Model` i podajemy tensory wejściowe i wyjściowe. Tak, można używać kilku inputów i kilku outputów."
   ]
  },
  {
   "cell_type": "code",
   "execution_count": 24,
   "metadata": {
    "collapsed": true
   },
   "outputs": [],
   "source": [
    "model_keras = Model(inputs=input_, outputs=output)\n",
    "\n",
    "# model kompilujemy tak jak wcześniej\n",
    "model_keras.compile(optimizer=\"adam\", loss=\"categorical_crossentropy\")"
   ]
  },
  {
   "cell_type": "code",
   "execution_count": 25,
   "metadata": {},
   "outputs": [
    {
     "name": "stdout",
     "output_type": "stream",
     "text": [
      "Epoch 1/5\n",
      "60000/60000 [==============================] - 9s - loss: 0.3815     \n",
      "Epoch 2/5\n",
      "60000/60000 [==============================] - 9s - loss: 0.1467     \n",
      "Epoch 3/5\n",
      "60000/60000 [==============================] - 9s - loss: 0.1223     \n",
      "Epoch 4/5\n",
      "60000/60000 [==============================] - 9s - loss: 0.1068     \n",
      "Epoch 5/5\n",
      "60000/60000 [==============================] - 9s - loss: 0.0962     \n"
     ]
    },
    {
     "data": {
      "text/plain": [
       "<keras.callbacks.History at 0x7f2e0a315e48>"
      ]
     },
     "execution_count": 25,
     "metadata": {},
     "output_type": "execute_result"
    }
   ],
   "source": [
    "model_keras.fit(X_train_mnist_reshaped, to_categorical(Y_train_mnist), epochs=5, batch_size=32, verbose=1)"
   ]
  },
  {
   "cell_type": "code",
   "execution_count": 26,
   "metadata": {},
   "outputs": [
    {
     "name": "stdout",
     "output_type": "stream",
     "text": [
      "test accuracy: 0.98\n"
     ]
    }
   ],
   "source": [
    "preds_mnist = model_keras.predict(X_test_mnist_reshaped)\n",
    "print('test accuracy: %.2f' % (np.mean(np.argmax(preds_mnist, axis=1) == Y_test_mnist)))"
   ]
  },
  {
   "cell_type": "markdown",
   "metadata": {},
   "source": [
    "### Image augmentation"
   ]
  },
  {
   "cell_type": "markdown",
   "metadata": {},
   "source": [
    "W przypadku zbiorów niezbyt dużych warto w jakiś sposób zwiększyć ilość różnych obserwacji w zbiorze treningowym. O ile w przypadku danych tabularnych ciężko określić sensowny sposób generacji danych, tak w przypadku obrazków sytuacja wygląda prościej. Jeżeli delikatnie obrócimy cyfrę 1, wciąż jest ona tą samą cyfrą - ale reprezentuje ją już inna macierz. Dzięki temu możemy wygenerować nieskończenie wiele różnych obserwacji, a dodatkowym efektem jest  zwiększenie zdolności modelu do generalizacji. "
   ]
  },
  {
   "cell_type": "markdown",
   "metadata": {},
   "source": [
    "W Kerasie możemy użyć generatora, który będzie automatycznie przeprowadzał odpowiednie operacje. "
   ]
  },
  {
   "cell_type": "code",
   "execution_count": 56,
   "metadata": {
    "collapsed": true
   },
   "outputs": [],
   "source": [
    "from keras.preprocessing.image import ImageDataGenerator\n",
    "from  sklearn.model_selection import train_test_split"
   ]
  },
  {
   "cell_type": "code",
   "execution_count": 55,
   "metadata": {
    "collapsed": true
   },
   "outputs": [],
   "source": [
    "data_generator = ImageDataGenerator(\n",
    "    width_shift_range=0.1,\n",
    "    height_shift_range=0.1,\n",
    "    rotation_range=10,\n",
    "    zoom_range=0.1\n",
    ")"
   ]
  },
  {
   "cell_type": "code",
   "execution_count": 62,
   "metadata": {
    "collapsed": true
   },
   "outputs": [],
   "source": [
    "X_train_gen, X_val_gen, y_train_gen, y_val_gen = train_test_split(\n",
    "    X_train_mnist_reshaped, \n",
    "    Y_train_mnist, \n",
    "    test_size=0.2\n",
    ")"
   ]
  },
  {
   "cell_type": "code",
   "execution_count": 63,
   "metadata": {
    "collapsed": true
   },
   "outputs": [],
   "source": [
    "input_ = Input(shape=(28,28,1))\n",
    "conv1 = Conv2D(3, (3,3), padding='same', activation='relu')(input_) #28X28\n",
    "pool1 = MaxPooling2D((2,2), padding='same')(conv1) # 14x14\n",
    "conv2 = Conv2D(4, (3,3), padding='same', activation='relu')(pool1) #14X14\n",
    "pool2 = MaxPooling2D((2,2), padding='same')(conv2) # 7x7\n",
    "reshape = Reshape((7*7*4,))(pool2)\n",
    "output = Dense(10, activation='softmax')(reshape)\n",
    "\n",
    "model_keras_generator = Model(inputs=input_, outputs=output)\n",
    "\n",
    "model_keras_generator.compile(optimizer=\"adam\", loss=\"categorical_crossentropy\")"
   ]
  },
  {
   "cell_type": "code",
   "execution_count": 65,
   "metadata": {},
   "outputs": [
    {
     "name": "stdout",
     "output_type": "stream",
     "text": [
      "Epoch 1/5\n",
      "1500/1500 [==============================] - 11s - loss: 0.7535 - val_loss: 0.2271\n",
      "Epoch 2/5\n",
      "1500/1500 [==============================] - 11s - loss: 0.3673 - val_loss: 0.1886\n",
      "Epoch 3/5\n",
      "1500/1500 [==============================] - 11s - loss: 0.3233 - val_loss: 0.1831\n",
      "Epoch 4/5\n",
      "1500/1500 [==============================] - 11s - loss: 0.3015 - val_loss: 0.1693\n",
      "Epoch 5/5\n",
      "1500/1500 [==============================] - 11s - loss: 0.2848 - val_loss: 0.1528\n"
     ]
    },
    {
     "data": {
      "text/plain": [
       "<keras.callbacks.History at 0x7f2d5bd2e6d8>"
      ]
     },
     "execution_count": 65,
     "metadata": {},
     "output_type": "execute_result"
    }
   ],
   "source": [
    "model_keras_generator.fit_generator(\n",
    "    generator=data_generator.flow(X_train_gen, to_categorical(y_train_gen), batch_size=32),\n",
    "    epochs=5,\n",
    "    steps_per_epoch=X_train_gen.shape[0]//32,\n",
    "    validation_data=[X_val_gen, to_categorical(y_val_gen)]    \n",
    ")"
   ]
  },
  {
   "cell_type": "markdown",
   "metadata": {},
   "source": [
    "Widać, że funkcja straty na zbiorze treningowym ma większe wartości niż wcześniej - model musi pomieścić więcej informacji niż wcześniej, aby wziąć pod uwagę wszystkie możliwe transformacje."
   ]
  },
  {
   "cell_type": "markdown",
   "metadata": {},
   "source": [
    "### Powtórne używanie warstw w API funkcyjnym"
   ]
  },
  {
   "cell_type": "markdown",
   "metadata": {},
   "source": [
    "Dzięki współdzieleniu warstw między modelami możemy bardzo łatwo sprawdzić jak wyglądał nasz obrazek wejściowy po przekształceniu przez kolejne warstwy. Możemy w tym momencie zdefiniować nowe modele, używając odniesień do wcześniej zdefiniowanych warstw. Co ważne, używamy już wytrenowanych warstw."
   ]
  },
  {
   "cell_type": "code",
   "execution_count": 27,
   "metadata": {
    "collapsed": true
   },
   "outputs": [],
   "source": [
    "model_after_conv1 = Model(inputs=input_, outputs=pool1)\n",
    "model_after_conv2 = Model(inputs=input_, outputs=pool2)"
   ]
  },
  {
   "cell_type": "code",
   "execution_count": 35,
   "metadata": {
    "collapsed": true
   },
   "outputs": [],
   "source": [
    "def plot_activations_bw(x, model, max_plots=5):\n",
    "    prediction = model.predict(np.expand_dims(x, axis=0))[0]\n",
    "    n_outputs = prediction.shape[2]\n",
    "    \n",
    "    plt.figure()\n",
    "    for i in range(min(max_plots, n_outputs)):\n",
    "        plt.imshow(prediction[:,:,i], interpolation = \"nearest\", cmap = \"gray\")\n",
    "        plt.show()\n"
   ]
  },
  {
   "cell_type": "code",
   "execution_count": 38,
   "metadata": {},
   "outputs": [
    {
     "data": {
      "image/png": "[encoded data removed]",
      "text/plain": [
       "<matplotlib.figure.Figure at 0x7f2df9a03898>"
      ]
     },
     "metadata": {},
     "output_type": "display_data"
    },
    {
     "data": {
      "image/png": "[encoded data removed]",
      "text/plain": [
       "<matplotlib.figure.Figure at 0x7f2df9ab1198>"
      ]
     },
     "metadata": {},
     "output_type": "display_data"
    },
    {
     "data": {
      "image/png": "[encoded data removed]",
      "text/plain": [
       "<matplotlib.figure.Figure at 0x7f2e0fac4b70>"
      ]
     },
     "metadata": {},
     "output_type": "display_data"
    },
    {
     "data": {
      "image/png": "[encoded data removed]",
      "text/plain": [
       "<matplotlib.figure.Figure at 0x7f2df9ab1d30>"
      ]
     },
     "metadata": {},
     "output_type": "display_data"
    }
   ],
   "source": [
    "plot_activations_bw(X_test_mnist_reshaped[0], model_after_conv2)"
   ]
  },
  {
   "cell_type": "code",
   "execution_count": 41,
   "metadata": {
    "collapsed": true
   },
   "outputs": [],
   "source": [
    "def plot_layers(model, layer_number, max_plots=4):\n",
    "    weights = model.layers[layer_number].get_weights()[0]\n",
    "    no_filters = weights.shape[3]\n",
    "    for i in range(min(no_filters, max_plots)):\n",
    "        plt.imshow(weights[:,:,0,i], interpolation = \"nearest\", cmap = \"gray\")\n",
    "        plt.show()"
   ]
  },
  {
   "cell_type": "code",
   "execution_count": 45,
   "metadata": {},
   "outputs": [
    {
     "data": {
      "image/png": "[encoded data removed]",
      "text/plain": [
       "<matplotlib.figure.Figure at 0x7f2e0fcadb00>"
      ]
     },
     "metadata": {},
     "output_type": "display_data"
    },
    {
     "data": {
      "image/png": "[encoded data removed]",
      "text/plain": [
       "<matplotlib.figure.Figure at 0x7f2e0facc0f0>"
      ]
     },
     "metadata": {},
     "output_type": "display_data"
    },
    {
     "data": {
      "image/png": "[encoded data removed]",
      "text/plain": [
       "<matplotlib.figure.Figure at 0x7f2e0fa6a588>"
      ]
     },
     "metadata": {},
     "output_type": "display_data"
    }
   ],
   "source": [
    "plot_layers(model_keras, 1)"
   ]
  },
  {
   "cell_type": "markdown",
   "metadata": {},
   "source": [
    "### Cifar"
   ]
  },
  {
   "cell_type": "markdown",
   "metadata": {},
   "source": [
    "Cifar to trochę bardziej skomplikowany zbiór - zawiera zdjęcia rzeczywistych obiektów należące do 10 klas (wersja CIFAR10). Wersja dostępna w Kerasie jest tylko pewnym wycinkiem całego zbioru.  \n",
    "Więcej info: https://www.cs.toronto.edu/~kriz/cifar.html"
   ]
  },
  {
   "cell_type": "code",
   "execution_count": 46,
   "metadata": {},
   "outputs": [],
   "source": [
    "from keras.datasets import cifar10\n",
    "\n",
    "(X_train_cifar, y_train_cifar), (X_test_cifar, y_test_cifar) = cifar10.load_data()"
   ]
  },
  {
   "cell_type": "code",
   "execution_count": 47,
   "metadata": {
    "collapsed": true
   },
   "outputs": [],
   "source": [
    "X_train_cifar = X_train_cifar/255.0\n",
    "X_test_cifar = X_test_cifar/255.0"
   ]
  },
  {
   "cell_type": "code",
   "execution_count": 48,
   "metadata": {},
   "outputs": [
    {
     "data": {
      "text/plain": [
       "((50000, 32, 32, 3), (50000, 1))"
      ]
     },
     "execution_count": 48,
     "metadata": {},
     "output_type": "execute_result"
    }
   ],
   "source": [
    "X_train_cifar.shape, y_train_cifar.shape"
   ]
  },
  {
   "cell_type": "code",
   "execution_count": 49,
   "metadata": {},
   "outputs": [
    {
     "name": "stdout",
     "output_type": "stream",
     "text": [
      "[1]\n"
     ]
    },
    {
     "data": {
      "image/png": "[encoded data removed]",
      "text/plain": [
       "<matplotlib.figure.Figure at 0x7f2de0614b70>"
      ]
     },
     "metadata": {},
     "output_type": "display_data"
    }
   ],
   "source": [
    "example_img = X_train_cifar[4]\n",
    "print(y_train_cifar[4])\n",
    "plt.imshow(example_img, interpolation = \"nearest\")\n",
    "plt.show()"
   ]
  },
  {
   "cell_type": "code",
   "execution_count": 50,
   "metadata": {
    "collapsed": true
   },
   "outputs": [],
   "source": [
    "input_ = Input(shape=(32,32,3))\n",
    "conv1 = Conv2D(40, (3,3), padding='same', activation='relu')(input_) #32x32\n",
    "pool1 = MaxPooling2D((2,2), padding='same')(conv1) # 16x16\n",
    "conv2 = Conv2D(60, (3,3), padding='same', activation='relu')(pool1) #16x16\n",
    "pool2 = MaxPooling2D((2,2), padding='same')(conv2) # 8x8\n",
    "reshape = Reshape((8*8*60,))(pool2)\n",
    "dense = Dense(200, activation='relu')(reshape)\n",
    "output = Dense(10, activation='softmax')(dense)\n",
    "model_cifar = Model(inputs=input_, outputs=output)"
   ]
  },
  {
   "cell_type": "code",
   "execution_count": 51,
   "metadata": {
    "collapsed": true
   },
   "outputs": [],
   "source": [
    "model_cifar.compile(optimizer=\"adam\", loss=\"categorical_crossentropy\", metrics=['accuracy'])"
   ]
  },
  {
   "cell_type": "markdown",
   "metadata": {},
   "source": [
    "W przypadku modeli o bardzo dużej ilości hiperparametrów występuje spore ryzyko przeuczenia się. Dlatego bardzo często stosuje się uczenie z jednoczesną walidacją na części zbioru treningowego. Dzięki temu możemy na bieżąco monitorować performance modelu i przerwać uczenie, gdy wyniki na części walidacyjnej zaczynają się pogarszać."
   ]
  },
  {
   "cell_type": "code",
   "execution_count": 52,
   "metadata": {},
   "outputs": [
    {
     "name": "stdout",
     "output_type": "stream",
     "text": [
      "Train on 37500 samples, validate on 12500 samples\n",
      "Epoch 1/5\n",
      "37500/37500 [==============================] - 9s - loss: 1.4076 - acc: 0.4937 - val_loss: 1.1461 - val_acc: 0.5921\n",
      "Epoch 2/5\n",
      "37500/37500 [==============================] - 9s - loss: 1.0224 - acc: 0.6390 - val_loss: 0.9759 - val_acc: 0.6628\n",
      "Epoch 3/5\n",
      "37500/37500 [==============================] - 9s - loss: 0.8595 - acc: 0.6972 - val_loss: 0.9759 - val_acc: 0.6649\n",
      "Epoch 4/5\n",
      "37500/37500 [==============================] - 9s - loss: 0.7418 - acc: 0.7394 - val_loss: 0.9818 - val_acc: 0.6735\n",
      "Epoch 5/5\n",
      "37500/37500 [==============================] - 9s - loss: 0.6341 - acc: 0.7758 - val_loss: 0.9082 - val_acc: 0.6905\n"
     ]
    },
    {
     "data": {
      "text/plain": [
       "<keras.callbacks.History at 0x7f2e0fa436d8>"
      ]
     },
     "execution_count": 52,
     "metadata": {},
     "output_type": "execute_result"
    }
   ],
   "source": [
    "model_cifar.fit(\n",
    "    X_train_cifar, \n",
    "    to_categorical(y_train_cifar),\n",
    "    validation_split=0.25,\n",
    "    epochs=5, batch_size=32, verbose=1)"
   ]
  },
  {
   "cell_type": "code",
   "execution_count": 53,
   "metadata": {},
   "outputs": [
    {
     "name": "stdout",
     "output_type": "stream",
     "text": [
      "test accuracy: 0.69\n"
     ]
    }
   ],
   "source": [
    "preds_cifar = model_cifar.predict(X_test_cifar)\n",
    "print('test accuracy: %.2f' % (np.mean(np.argmax(preds_cifar, axis=1).reshape(y_test_cifar.shape) == y_test_cifar)))"
   ]
  },
  {
   "cell_type": "code",
   "execution_count": 66,
   "metadata": {
    "collapsed": true
   },
   "outputs": [],
   "source": [
    "# TODO: play with it"
   ]
  },
  {
   "cell_type": "markdown",
   "metadata": {},
   "source": [
    "Zajawki:\n",
    "* autoencodery\n",
    "* GANy"
   ]
  },
  {
   "cell_type": "code",
   "execution_count": null,
   "metadata": {
    "collapsed": true
   },
   "outputs": [],
   "source": []
  }
 ],
 "metadata": {
  "kernelspec": {
   "display_name": "Python [conda env:tensorflow]",
   "language": "python",
   "name": "conda-env-tensorflow-py"
  },
  "language_info": {
   "codemirror_mode": {
    "name": "ipython",
    "version": 3
   },
   "file_extension": ".py",
   "mimetype": "text/x-python",
   "name": "python",
   "nbconvert_exporter": "python",
   "pygments_lexer": "ipython3",
   "version": "3.5.4"
  }
 },
 "nbformat": 4,
 "nbformat_minor": 2
}
