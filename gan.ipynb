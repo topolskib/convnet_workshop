{
 "cells": [
  {
   "cell_type": "markdown",
   "metadata": {},
   "source": [
    "Credits: https://github.com/Zackory/Keras-MNIST-GAN"
   ]
  },
  {
   "cell_type": "code",
   "execution_count": 16,
   "metadata": {},
   "outputs": [],
   "source": [
    "import numpy as np\n",
    "import matplotlib.pyplot as plt\n",
    "\n",
    "from keras.layers import Input\n",
    "from keras.models import Model, Sequential\n",
    "from keras.layers.core import Reshape, Dense, Dropout, Flatten\n",
    "from keras.layers.advanced_activations import LeakyReLU\n",
    "from keras.layers.convolutional import Conv2D, UpSampling2D\n",
    "from keras.datasets import mnist\n",
    "from keras.optimizers import Adam\n",
    "from keras import backend as K\n",
    "from keras import initializers"
   ]
  },
  {
   "cell_type": "code",
   "execution_count": 17,
   "metadata": {
    "collapsed": true
   },
   "outputs": [],
   "source": [
    "from keras.datasets import mnist\n",
    "(X_train_mnist, Y_train_mnist), (X_test_mnist, Y_test_mnist) = mnist.load_data()\n",
    "# skalowanie 0-1 \n",
    "X_train_mnist_scaled = ( X_train_mnist-127.5)/127.5\n",
    "X_test_mnist_scaled = (X_test_mnist-127.5)/127.5\n",
    "\n",
    "X_train_mnist_reshaped = X_train_mnist_scaled[:,:,:,np.newaxis]\n",
    "X_test_mnist_reshaped = X_test_mnist_scaled[:,:,:,np.newaxis]"
   ]
  },
  {
   "cell_type": "code",
   "execution_count": 3,
   "metadata": {
    "collapsed": true
   },
   "outputs": [],
   "source": [
    "randomDim = 10"
   ]
  },
  {
   "cell_type": "code",
   "execution_count": 9,
   "metadata": {},
   "outputs": [],
   "source": [
    "# Optimizer\n",
    "adam = Adam(lr=0.0002, beta_1=0.5)\n",
    "\n",
    "# Generator\n",
    "generator = Sequential()\n",
    "generator.add(Dense(128*7*7, input_dim=randomDim, kernel_initializer=initializers.RandomNormal(stddev=0.02)))\n",
    "generator.add(LeakyReLU(0.2))\n",
    "generator.add(Reshape((7, 7, 128)))\n",
    "generator.add(UpSampling2D(size=(2, 2)))\n",
    "generator.add(Conv2D(64, kernel_size=(5, 5), padding='same'))\n",
    "generator.add(LeakyReLU(0.2))\n",
    "generator.add(UpSampling2D(size=(2, 2)))\n",
    "generator.add(Conv2D(1, kernel_size=(5, 5), padding='same', activation='tanh'))\n",
    "generator.compile(loss='binary_crossentropy', optimizer=adam)\n",
    "\n",
    "# Discriminator\n",
    "discriminator = Sequential()\n",
    "discriminator.add(Conv2D(64, kernel_size=(5, 5), strides=(2, 2), padding='same', input_shape=(28, 28, 1), kernel_initializer=initializers.RandomNormal(stddev=0.02)))\n",
    "discriminator.add(LeakyReLU(0.2))\n",
    "discriminator.add(Dropout(0.3))\n",
    "discriminator.add(Conv2D(128, kernel_size=(5, 5), strides=(2, 2), padding='same'))\n",
    "discriminator.add(LeakyReLU(0.2))\n",
    "discriminator.add(Dropout(0.3))\n",
    "discriminator.add(Flatten())\n",
    "discriminator.add(Dense(1, activation='sigmoid'))\n",
    "discriminator.compile(loss='binary_crossentropy', optimizer=adam)\n",
    "\n",
    "# Combined network\n",
    "discriminator.trainable = False\n",
    "ganInput = Input(shape=(randomDim,))\n",
    "x = generator(ganInput)\n",
    "ganOutput = discriminator(x)\n",
    "gan = Model(inputs=ganInput, outputs=ganOutput)\n",
    "gan.compile(loss='binary_crossentropy', optimizer=adam)"
   ]
  },
  {
   "cell_type": "code",
   "execution_count": 19,
   "metadata": {},
   "outputs": [
    {
     "name": "stdout",
     "output_type": "stream",
     "text": [
      "--------------- Epoch 1 ---------------\n",
      "Discriminator loss: 0.647496, generator loss: 0.900173\n",
      "--------------- Epoch 2 ---------------\n",
      "Discriminator loss: 0.648843, generator loss: 0.869855\n",
      "--------------- Epoch 3 ---------------\n",
      "Discriminator loss: 0.658077, generator loss: 0.990444\n",
      "--------------- Epoch 4 ---------------\n",
      "Discriminator loss: 0.640699, generator loss: 0.909119\n",
      "--------------- Epoch 5 ---------------\n",
      "Discriminator loss: 0.628974, generator loss: 1.09091\n",
      "--------------- Epoch 6 ---------------\n",
      "Discriminator loss: 0.646318, generator loss: 1.2049\n",
      "--------------- Epoch 7 ---------------\n",
      "Discriminator loss: 0.611192, generator loss: 1.00192\n",
      "--------------- Epoch 8 ---------------\n",
      "Discriminator loss: 0.630281, generator loss: 0.931287\n",
      "--------------- Epoch 9 ---------------\n",
      "Discriminator loss: 0.610882, generator loss: 1.03175\n",
      "--------------- Epoch 10 ---------------\n",
      "Discriminator loss: 0.629465, generator loss: 1.0633\n"
     ]
    }
   ],
   "source": [
    "EPOCHS = 10\n",
    "BATCH_SIZE=64\n",
    "BATCHES = X_train_mnist_reshaped.shape[0] // BATCH_SIZE\n",
    "for e in range(1, EPOCHS+1):\n",
    "    print('-'*15, 'Epoch %d' % e, '-'*15)\n",
    "    for _ in range(BATCHES):\n",
    "        # Get a random set of input noise and images\n",
    "        noise = np.random.normal(0, 1, size=[BATCH_SIZE, randomDim])\n",
    "        imageBatch = X_train_mnist_reshaped[np.random.randint(0, X_train_mnist_reshaped.shape[0], size=BATCH_SIZE)]\n",
    "\n",
    "        # Generate fake MNIST images\n",
    "        generatedImages = generator.predict(noise)\n",
    "        X = np.concatenate([imageBatch, generatedImages])\n",
    "\n",
    "        # Labels for generated and real data\n",
    "        yDis = np.zeros(2*BATCH_SIZE)\n",
    "        # One-sided label smoothing\n",
    "        yDis[:BATCH_SIZE] = 0.9\n",
    "\n",
    "        # Train discriminator\n",
    "        discriminator.trainable = True\n",
    "        dloss = discriminator.train_on_batch(X, yDis)\n",
    "\n",
    "        # Train generator\n",
    "        noise = np.random.normal(0, 1, size=[BATCH_SIZE, randomDim])\n",
    "        yGen = np.ones(BATCH_SIZE)\n",
    "        discriminator.trainable = False\n",
    "        gloss = gan.train_on_batch(noise, yGen)\n",
    "    print(\"Discriminator loss: %s, generator loss: %s\" % (dloss, gloss))\n"
   ]
  },
  {
   "cell_type": "code",
   "execution_count": 21,
   "metadata": {},
   "outputs": [
    {
     "data": {
      "text/plain": [
       "(10, 28, 28, 1)"
      ]
     },
     "execution_count": 21,
     "metadata": {},
     "output_type": "execute_result"
    }
   ],
   "source": [
    "generatedImages.shape"
   ]
  },
  {
   "cell_type": "code",
   "execution_count": 22,
   "metadata": {},
   "outputs": [
    {
     "data": {
      "image/png": "[encoded data removed]",
      "text/plain": [
       "<matplotlib.figure.Figure at 0x7f90b1b315c0>"
      ]
     },
     "metadata": {},
     "output_type": "display_data"
    }
   ],
   "source": [
    "examples=10\n",
    "dim=(10, 10)\n",
    "figsize=(10, 10)\n",
    "noise = np.random.normal(0, 1, size=[examples, randomDim])\n",
    "generatedImages = generator.predict(noise)\n",
    "\n",
    "plt.figure(figsize=figsize)\n",
    "for i in range(generatedImages.shape[0]):\n",
    "    plt.subplot(dim[0], dim[1], i+1)\n",
    "    plt.imshow(generatedImages[i, :,:,0], interpolation='nearest', cmap='gray_r')\n",
    "    plt.axis('off')\n",
    "plt.tight_layout()\n",
    "plt.show()"
   ]
  },
  {
   "cell_type": "code",
   "execution_count": null,
   "metadata": {
    "collapsed": true
   },
   "outputs": [],
   "source": []
  }
 ],
 "metadata": {
  "kernelspec": {
   "display_name": "Python [conda env:tensorflow]",
   "language": "python",
   "name": "conda-env-tensorflow-py"
  },
  "language_info": {
   "codemirror_mode": {
    "name": "ipython",
    "version": 3
   },
   "file_extension": ".py",
   "mimetype": "text/x-python",
   "name": "python",
   "nbconvert_exporter": "python",
   "pygments_lexer": "ipython3",
   "version": "3.5.4"
  }
 },
 "nbformat": 4,
 "nbformat_minor": 2
}
